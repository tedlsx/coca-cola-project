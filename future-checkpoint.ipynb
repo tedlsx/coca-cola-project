{
 "cells": [
  {
   "cell_type": "code",
   "execution_count": 3,
   "metadata": {},
   "outputs": [],
   "source": [
    "def horoscope_sign(name1, name2):\n",
    "    if name1 == \"ted\" and name2 == \"santi\":\n",
    "        print(\"Scorpio\", \"dog\")\n",
    "    elif name1 == \"santi\" and name2 == \"ted\":\n",
    "        print(\"Dog\", \"Scorpio\")"
   ]
  }
 ],
 "metadata": {
  "kernelspec": {
   "display_name": "Python 3",
   "language": "python",
   "name": "python3"
  },
  "language_info": {
   "codemirror_mode": {
    "name": "ipython",
    "version": 3
   },
   "file_extension": ".py",
   "mimetype": "text/x-python",
   "name": "python",
   "nbconvert_exporter": "python",
   "pygments_lexer": "ipython3",
   "version": "3.7.3"
  }
 },
 "nbformat": 4,
 "nbformat_minor": 2
}
