{
 "cells": [
  {
   "cell_type": "code",
   "execution_count": 1,
   "metadata": {},
   "outputs": [],
   "source": [
<<<<<<< HEAD
    "def horoscope_sign(name1, name2):\n",
    "    if name1 == \"ted\" and name2 == \"santi\":\n",
    "        print(\"Scorpio\", \"dog\")\n",
    "    elif name1 == \"santi\" and name2 == \"ted\":\n",
    "        print(\"Dog\", \"Scorpio\")"
=======
    "def future(name):\n",
    "    if name == \"ted\":\n",
    "        print(\"Scorpio\")\n",
    "    elif name == \"santi\":\n",
    "        print(\"Dog\")"
>>>>>>> 866251f27a9fd4d142158049647444c0c2b4393e
   ]
  },
  {
   "cell_type": "code",
   "execution_count": null,
   "metadata": {},
   "outputs": [],
   "source": []
  }
 ],
 "metadata": {
  "kernelspec": {
   "display_name": "Python 3",
   "language": "python",
   "name": "python3"
  },
  "language_info": {
   "codemirror_mode": {
    "name": "ipython",
    "version": 3
   },
   "file_extension": ".py",
   "mimetype": "text/x-python",
   "name": "python",
   "nbconvert_exporter": "python",
   "pygments_lexer": "ipython3",
   "version": "3.7.3"
  }
 },
 "nbformat": 4,
 "nbformat_minor": 2
}
